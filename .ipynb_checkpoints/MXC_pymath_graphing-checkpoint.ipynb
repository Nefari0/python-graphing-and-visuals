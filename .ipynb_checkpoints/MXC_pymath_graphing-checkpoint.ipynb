{
 "cells": [
  {
   "cell_type": "markdown",
   "metadata": {},
   "source": [
    "# COURSE: Master math by coding in Python\n",
    "## SECTION: Graphing\n",
    "\n",
    "#### https://www.udemy.com/course/math-with-python/?couponCode=MXC-DISC4ALL\n",
    "#### INSTRUCTOR: sincxpress.com\n",
    "\n",
    "Note about this code: Each video in this section of the course corresponds to a section of code below. Please note that this code roughly matches the code shown in the live recording, but is not exactly the same -- the variable names, order of lines, and parameters may be slightly different. "
   ]
  },
  {
   "cell_type": "code",
   "execution_count": 2,
   "metadata": {},
   "outputs": [],
   "source": [
    "# import required packages at the top of the script!\n",
    "import sympy as sym\n",
    "import numpy as np\n",
    "from IPython.display import display, Math\n",
    "import matplotlib.pyplot as plt"
   ]
  },
  {
   "cell_type": "markdown",
   "metadata": {},
   "source": [
    "# VIDEO: Plotting coordinates on a plane"
   ]
  },
  {
   "cell_type": "code",
   "execution_count": null,
   "metadata": {},
   "outputs": [],
   "source": [
    "x = 3\n",
    "y = 5\n",
    "\n",
    "# basic plotting a red dot\n",
    "plt.plot(x,y,'ro')\n",
    "\n",
    "# set axis limits\n",
    "plt.axis('square') # order matters\n",
    "plt.axis([-6,6,-6,6])\n",
    "plt.grid()\n",
    "\n",
    "plt.show()"
   ]
  },
  {
   "cell_type": "code",
   "execution_count": null,
   "metadata": {},
   "outputs": [],
   "source": [
    "# a set of coordinates\n",
    "\n",
    "x = [-4,2,5,6,2,-5]\n",
    "y = [5,2,10,-5,4,0]\n",
    "\n",
    "for i in range(0,len(x)):\n",
    "    plt.plot(x[i],y[i],'o',label='point %s'%i)\n",
    "    \n",
    "\n",
    "plt.legend()\n",
    "plt.axis('square')\n",
    "plt.grid()\n",
    "plt.show()"
   ]
  },
  {
   "cell_type": "code",
   "execution_count": null,
   "metadata": {},
   "outputs": [],
   "source": [
    "# getting information from axes\n",
    "\n",
    "plt.plot(4,3,'rs')\n",
    "\n",
    "# get an object for the current axis\n",
    "axis = plt.gca()\n",
    "ylim = axis.get_ylim()\n",
    "print(ylim)\n",
    "\n",
    "# now change only the upper y-axis limit\n",
    "axis.set_ylim([ ylim[0],6 ])\n",
    "\n",
    "plt.xlabel('X axis')\n",
    "plt.ylabel('F(x)')\n",
    "\n",
    "plt.show()"
   ]
  },
  {
   "cell_type": "markdown",
   "metadata": {},
   "source": [
    "### Exercise"
   ]
  },
  {
   "cell_type": "code",
   "execution_count": null,
   "metadata": {},
   "outputs": [],
   "source": [
    "# define a function and then subs\n",
    "import sympy as sym\n",
    "\n",
    "x = sym.symbols('x')\n",
    "y = x**2 - 3*x\n",
    "\n",
    "xrange = range(-10,11)\n",
    "\n",
    "\n",
    "for i in range(0,len(xrange)):\n",
    "    plt.plot(xrange[i],y.subs({x:xrange[i]}),'o')\n",
    "        \n",
    "plt.xlabel('x')\n",
    "plt.ylabel('$f(x) = %s$' %sym.latex(y))\n",
    "plt.show()"
   ]
  },
  {
   "cell_type": "markdown",
   "metadata": {},
   "source": [
    "# VIDEO: Graphing lines"
   ]
  },
  {
   "cell_type": "code",
   "execution_count": null,
   "metadata": {},
   "outputs": [],
   "source": [
    "# drawing lines\n",
    "\n",
    "p1 = [-3,-1]\n",
    "p2 = [4,4]\n",
    "\n",
    "# nice try, but wrong code :(\n",
    "plt.plot(p1,p2)\n",
    "plt.plot([p1[0],p2[0]],[p1[1],p2[1]],color=[.7,.3,.8],linewidth=5)\n",
    "\n",
    "plt.axis('square')\n",
    "plt.axis([-6,6,-6,6])\n",
    "plt.show()"
   ]
  },
  {
   "cell_type": "code",
   "execution_count": null,
   "metadata": {},
   "outputs": [],
   "source": [
    "x = 3\n",
    "y = 5\n",
    "\n",
    "# basic plotting a red dot\n",
    "plt.plot(x,y,'ro')\n",
    "plt.plot([0,x],[0,y],'r')\n",
    "\n",
    "# set axis limits\n",
    "plt.axis('square') # order matters\n",
    "plt.axis([-6,6,-6,6])\n",
    "plt.grid()\n",
    "\n",
    "# now add lines\n",
    "plt.plot([-6,6],[0,0],'k')\n",
    "plt.plot([0,0],[-6,6],'k')\n",
    "\n",
    "plt.show()"
   ]
  },
  {
   "cell_type": "markdown",
   "metadata": {},
   "source": [
    "### Exercises"
   ]
  },
  {
   "cell_type": "code",
   "execution_count": null,
   "metadata": {},
   "outputs": [],
   "source": [
    "x = range(-20,20)\n",
    "\n",
    "for i in range(0,len(x)):\n",
    "    plt.plot([0,x[i]],[0,abs(x[i])**(1/2)])\n",
    "    \n",
    "plt.xlabel('x')\n",
    "plt.ylabel('y')\n",
    "plt.show()"
   ]
  },
  {
   "cell_type": "code",
   "execution_count": null,
   "metadata": {},
   "outputs": [],
   "source": [
    "# draw a square\n",
    "plt.plot([0,2],[2,2],'r')\n",
    "plt.plot([0,2],[0,0],'k')\n",
    "plt.plot([0,0],[0,2],'g')\n",
    "plt.plot([2,2],[0,2],'m')\n",
    "\n",
    "plt.axis('square')\n",
    "plt.axis([-3,5,-3,5])\n",
    "plt.show()\n"
   ]
  },
  {
   "cell_type": "markdown",
   "metadata": {},
   "source": [
    "# VIDEO: Linear equations in slope-intercept form"
   ]
  },
  {
   "cell_type": "code",
   "execution_count": null,
   "metadata": {},
   "outputs": [],
   "source": [
    "# y = mx + b\n",
    "\n",
    "x = [-5,5]\n",
    "m = 2\n",
    "b = 1\n",
    "\n",
    "# next line doesn't work; solution comes later!\n",
    "#y = m*x+b\n",
    "\n",
    "# for now, this way\n",
    "y = [0,0]\n",
    "for i in range(0,len(x)):\n",
    "    y[i] = m*x[i] + b\n",
    "\n",
    "\n",
    "plt.plot(x,y,label='y=%sx+%s' %(m,b))\n",
    "plt.axis('square')\n",
    "plt.xlim(x)\n",
    "plt.ylim(x)\n",
    "plt.grid()\n",
    "axis = plt.gca()\n",
    "plt.plot(axis.get_xlim(),[0,0],'k--')\n",
    "plt.plot([0,0],axis.get_ylim(),'k--')\n",
    "plt.legend()\n",
    "plt.title('The plot.')\n",
    "\n",
    "plt.show()\n"
   ]
  },
  {
   "cell_type": "code",
   "execution_count": null,
   "metadata": {},
   "outputs": [],
   "source": [
    "import numpy as np\n",
    "\n",
    "# converting x into a numpy array\n",
    "y = m*np.array(x) + b\n",
    "\n",
    "\n",
    "plt.plot(x,y,label='y=%sx+%s' %(m,b))\n",
    "plt.axis('square')\n",
    "plt.xlim(x)\n",
    "plt.ylim(x)\n",
    "plt.grid()\n",
    "axis = plt.gca()\n",
    "plt.plot(axis.get_xlim(),[0,0],'k--')\n",
    "plt.plot([0,0],axis.get_ylim(),'k--')\n",
    "plt.legend()\n",
    "plt.title('The plot.')\n",
    "\n",
    "plt.show()"
   ]
  },
  {
   "cell_type": "code",
   "execution_count": null,
   "metadata": {},
   "outputs": [],
   "source": [
    "print(type(x))\n",
    "print(type(np.array(x)))"
   ]
  },
  {
   "cell_type": "markdown",
   "metadata": {},
   "source": [
    "### Exercise"
   ]
  },
  {
   "cell_type": "code",
   "execution_count": null,
   "metadata": {},
   "outputs": [],
   "source": [
    "# plot these two lines\n",
    "import numpy as np\n",
    "\n",
    "x = [-5,5]\n",
    "m = [.7,-5/4]\n",
    "b = [-2,3/4]\n",
    "\n",
    "for i in range(0,len(x)):\n",
    "    y = m[i]*np.array(x) + b[i]\n",
    "    plt.plot(x,y,label='y=%sx+%s' %(m[i],b[i]))\n",
    "    \n",
    "plt.axis('square')\n",
    "plt.xlim(x)\n",
    "plt.ylim(x)\n",
    "plt.grid()\n",
    "plt.xlabel('x')\n",
    "plt.ylabel('y')\n",
    "axis = plt.gca()\n",
    "plt.plot(axis.get_xlim(),[0,0],'k--')\n",
    "plt.plot([0,0],axis.get_ylim(),'k--')\n",
    "plt.legend(prop={'size':15})\n",
    "plt.title('The plot.')\n",
    "\n",
    "plt.show()\n"
   ]
  },
  {
   "cell_type": "markdown",
   "metadata": {},
   "source": [
    "# VIDEO: Graphing rational functions"
   ]
  },
  {
   "cell_type": "code",
   "execution_count": null,
   "metadata": {},
   "outputs": [],
   "source": [
    "import numpy as np\n",
    "\n",
    "x = range(-3,4)\n",
    "y = np.zeros(len(x))\n",
    "\n",
    "for i in range(0,len(x)):\n",
    "    y[i] = 2 - x[i]**2\n",
    "\n",
    "plt.plot(x,y,'s-')\n",
    "plt.xlabel('x'), plt.ylabel('y')\n",
    "plt.show()"
   ]
  },
  {
   "cell_type": "code",
   "execution_count": null,
   "metadata": {},
   "outputs": [],
   "source": [
    "# what if you want more spacing?\n",
    "\n",
    "x = np.linspace(-3,4,14)\n",
    "y = 2 + np.sqrt(abs(x))\n",
    "    \n",
    "plt.plot(x,y,'s-')\n",
    "plt.show()"
   ]
  },
  {
   "cell_type": "markdown",
   "metadata": {},
   "source": [
    "### Exercise"
   ]
  },
  {
   "cell_type": "code",
   "execution_count": null,
   "metadata": {},
   "outputs": [],
   "source": [
    "import numpy as np\n",
    "\n",
    "e = range(-1,4)\n",
    "x = np.linspace(-4,4,300)\n",
    "\n",
    "for i in e:\n",
    "    y = x**i\n",
    "    plt.plot(x,y,label='$y=x^{%s}$'%i,linewidth=4)\n",
    "    \n",
    "plt.legend()\n",
    "plt.ylim([-20,20])\n",
    "plt.xlim([x[0],x[-1]])\n",
    "plt.xlabel('x')\n",
    "plt.ylabel('y')\n",
    "plt.show()"
   ]
  },
  {
   "cell_type": "markdown",
   "metadata": {},
   "source": [
    "# VIDEO: Plotting functions with sympy"
   ]
  },
  {
   "cell_type": "code",
   "execution_count": null,
   "metadata": {},
   "outputs": [],
   "source": [
    "# create symbolic variables\n",
    "from sympy.abc import x\n",
    "\n",
    "# define function\n",
    "y = x**2\n",
    "\n",
    "# plotting function in sympy\n",
    "p = sym.plotting.plot(y) #(x,y)\n",
    "\n",
    "# trying to adjust the y-axis limits\n",
    "p.ylim = [0,50] # ...but it doesn't work :("
   ]
  },
  {
   "cell_type": "code",
   "execution_count": null,
   "metadata": {},
   "outputs": [],
   "source": [
    "# to set features of the plot, turn the plotting off, then make adjustments, then show the plot\n",
    "\n",
    "# create a plot object\n",
    "p = sym.plotting.plot(y,show=False)\n",
    "\n",
    "# change the y-axis of the entire plot\n",
    "p.xlim = (0,50)\n",
    "\n",
    "# change a feature of only the first plot object (the line, in this case there is only one)\n",
    "p[0].line_color = 'm'\n",
    "p.title = 'This is a nice-looking plot!'\n",
    "\n",
    "# now show the line\n",
    "p.show()"
   ]
  },
  {
   "cell_type": "code",
   "execution_count": null,
   "metadata": {},
   "outputs": [],
   "source": [
    "# This code shows how to use expressions with parameters\n",
    "# and also how to plot multiple lines in the same plot\n",
    "\n",
    "x,a = sym.symbols('x,a')\n",
    "\n",
    "# a convenient way to import the plot module\n",
    "import sympy.plotting.plot as symplot\n",
    "\n",
    "# the basic expression with parameters\n",
    "expr = a/x\n",
    "\n",
    "# generate the first plot\n",
    "p = symplot(expr.subs(a,1),(x,-5,5),show=False)\n",
    "p[0].label = 'y = %s'%expr.subs(a,1) # create a label for the legend\n",
    "\n",
    "# extend to show the second plot as well\n",
    "p.extend( symplot(expr.subs(a,3),show=False) )\n",
    "p[1].label = 'y = %s'%expr.subs(a,3)\n",
    "\n",
    "# some plotting adjustments\n",
    "p.ylim = [-5,5]\n",
    "p[0].line_color = 'r'\n",
    "p.legend = True # activate the legend\n",
    "\n",
    "# and show the plot\n",
    "p.show()\n"
   ]
  },
  {
   "cell_type": "markdown",
   "metadata": {},
   "source": [
    "### Exercise"
   ]
  },
  {
   "cell_type": "code",
   "execution_count": null,
   "metadata": {},
   "outputs": [],
   "source": [
    "# create variables\n",
    "x,a = sym.symbols('x,a')\n",
    "\n",
    "# define function\n",
    "y = a/(x**2-a)\n",
    "\n",
    "# reset and initialize the plot function\n",
    "p = None\n",
    "p = sym.plotting.plot(y.subs(a,1),(x,-5,5),show=False )\n",
    "p[0].label = '$%s$'%sym.latex(y.subs(a,1))\n",
    "\n",
    "# loop over values of a\n",
    "for i in range(2,5):\n",
    "    p.extend( sym.plotting.plot(y.subs(a,i),(x,-5,5),show=False ) )\n",
    "    p[i-1].line_color = list(np.random.rand(3))\n",
    "    p[i-1].label = '$%s$'%sym.latex(y.subs(a,i))\n",
    "\n",
    "# a bit of touching up and show the plot\n",
    "p.ylim = [-10,10]\n",
    "p.legend = True\n",
    "p.show()"
   ]
  },
  {
   "cell_type": "markdown",
   "metadata": {},
   "source": [
    "# VIDEO: Making pictures from matrices"
   ]
  },
  {
   "cell_type": "code",
   "execution_count": null,
   "metadata": {},
   "outputs": [],
   "source": [
    "# create a matrix\n",
    "A = [ [1,2],[1,4] ]\n",
    "\n",
    "# show it (yikes! many functions!)\n",
    "display(Math(sym.latex(sym.sympify(np.array(A)))))\n",
    "\n",
    "# now image it\n",
    "plt.imshow(A)\n",
    "\n",
    "plt.xticks([0,1])\n",
    "plt.yticks([.85,1])\n",
    "\n",
    "plt.show()"
   ]
  },
  {
   "cell_type": "code",
   "execution_count": null,
   "metadata": {},
   "outputs": [],
   "source": [
    "A = np.zeros((10,14))\n",
    "\n",
    "print( np.shape(A) )\n",
    "\n",
    "for i in range(0,np.shape(A)[0]):\n",
    "    for j in range(0,np.shape(A)[1]):\n",
    "        \n",
    "        # populate the matrix\n",
    "        A[i,j] = 3*i-4*j\n",
    "\n",
    "print(A)\n",
    "plt.imshow(A)\n",
    "plt.plot([0,3],[8,2],'r',linewidth=4)\n",
    "plt.set_cmap('Purples')\n",
    "\n",
    "for i in range(0,np.shape(A)[0]):\n",
    "    for j in range(0,np.shape(A)[1]):\n",
    "        plt.text(j,i,int(A[i,j]),horizontalalignment='center',verticalalignment='center')\n",
    "\n",
    "\n",
    "plt.show()"
   ]
  },
  {
   "cell_type": "markdown",
   "metadata": {},
   "source": [
    "### Exercise"
   ]
  },
  {
   "cell_type": "code",
   "execution_count": null,
   "metadata": {},
   "outputs": [],
   "source": [
    "# make a checkerboard\n",
    "\n",
    "C = np.zeros((10,10))\n",
    "\n",
    "for i in range(0,10):\n",
    "    for j in range(0,10):\n",
    "        C[i,j] = (-1)**(i+j)\n",
    "        \n",
    "plt.imshow(C)\n",
    "plt.set_cmap('gray')\n",
    "plt.tick_params(labelleft=False,labelbottom=False)\n",
    "plt.show()"
   ]
  },
  {
   "cell_type": "markdown",
   "metadata": {},
   "source": [
    "# VIDEO: Drawing patches with polygons"
   ]
  },
  {
   "cell_type": "code",
   "execution_count": null,
   "metadata": {},
   "outputs": [],
   "source": [
    "from matplotlib.patches import Polygon\n",
    "\n",
    "x = np.linspace(0,1,100)\n",
    "y = np.array([ [1,1],[2,3],[3,1] ])\n",
    "p = Polygon(y,facecolor='m',alpha=.3)\n",
    "\n",
    "# extend with two polygons\n",
    "y1 = np.array([ [2,2],[2.5,4],[3.5,1] ])\n",
    "p1 = Polygon(y1,alpha=.2,edgecolor='k')\n",
    "\n",
    "fig, ax = plt.subplots()\n",
    "ax.add_patch(p1)\n",
    "ax.add_patch(p)\n",
    "ax.set_ylim([0,4])\n",
    "ax.set_xlim([0,4])\n",
    "plt.show()"
   ]
  },
  {
   "cell_type": "code",
   "execution_count": null,
   "metadata": {},
   "outputs": [],
   "source": [
    "x = np.linspace(-2,2,101)\n",
    "f = -x**2\n",
    "\n",
    "y = np.vstack((x,f)).T\n",
    "p = Polygon(y,facecolor='g',alpha=.2,edgecolor='k')\n",
    "\n",
    "p1 = Polygon(np.array([ [-.5,-4],[-.5,-2.5],[.5,-2.5],[.5,-4] ]),facecolor='k')\n",
    "\n",
    "fig, ax = plt.subplots()\n",
    "ax.add_patch(p)\n",
    "ax.add_patch(p1)\n",
    "\n",
    "plt.plot(x,f,'k')\n",
    "plt.plot(x[[0,-1]],[-4,-4],'k')\n",
    "plt.show()"
   ]
  },
  {
   "cell_type": "markdown",
   "metadata": {},
   "source": [
    "# VIDEO: Exporting graphics as pictures"
   ]
  },
  {
   "cell_type": "code",
   "execution_count": null,
   "metadata": {},
   "outputs": [],
   "source": [
    "C = np.zeros((10,10))\n",
    "\n",
    "for i in range(0,10):\n",
    "    for j in range(0,10):\n",
    "        C[i,j] = (-1)**(i+j)\n",
    "        \n",
    "plt.imshow(C)\n",
    "plt.set_cmap('gray')\n",
    "plt.tick_params(axis='both',labelleft=False,labelbottom=False)\n",
    "\n",
    "# save the figure!\n",
    "plt.savefig('NiceFigure.png')\n",
    "plt.show() # make sure this line comes after, not before, the savefig function call\n"
   ]
  },
  {
   "cell_type": "markdown",
   "metadata": {},
   "source": [
    "# VIDEO: Graphing bug hunt!"
   ]
  },
  {
   "cell_type": "code",
   "execution_count": null,
   "metadata": {},
   "outputs": [],
   "source": [
    "plt.plot(3,2,'ro')\n",
    "\n",
    "# set axis limits\n",
    "plt.axis('square')\n",
    "plt.axis([-6,6,-6,6])\n",
    "plt.show()"
   ]
  },
  {
   "cell_type": "code",
   "execution_count": null,
   "metadata": {},
   "outputs": [],
   "source": [
    "# plot a line\n",
    "plt.plot([0,3],[0,5])\n",
    "plt.show()"
   ]
  },
  {
   "cell_type": "code",
   "execution_count": null,
   "metadata": {},
   "outputs": [],
   "source": [
    "import numpy as np\n",
    "\n",
    "x = range(-3,4)\n",
    "y = np.zeros(len(x))\n",
    "\n",
    "for i in range(0,len(x)):\n",
    "    y[i] = 2 - x[i]**2\n",
    "\n",
    "plt.plot(x,y,'s-')\n",
    "plt.show()"
   ]
  },
  {
   "cell_type": "code",
   "execution_count": 3,
   "metadata": {},
   "outputs": [
    {
     "data": {
      "image/png": "[encoded data removed]",
      "text/plain": [
       "<Figure size 432x288 with 1 Axes>"
      ]
     },
     "metadata": {
      "needs_background": "light"
     },
     "output_type": "display_data"
    }
   ],
   "source": [
    "# plot two lines\n",
    "plt.plot([-2,3],[4,0],'b',label='line 1')\n",
    "plt.plot([0,3],[-3,3],'r',label='line 2')\n",
    "\n",
    "plt.legend()\n",
    "plt.show()"
   ]
  },
  {
   "cell_type": "code",
   "execution_count": null,
   "metadata": {},
   "outputs": [],
   "source": [
    "randmat = np.random.randn(5,9)\n",
    "\n",
    "# draw a line from lower-left corner to upper-right corner\n",
    "plt.plot([8,0],[0,4],color=(.4,.1,.9),linewidth=5)\n",
    "\n",
    "plt.imshow(randmat)\n",
    "plt.set_cmap('Purples')\n",
    "plt.show()"
   ]
  },
  {
   "cell_type": "code",
   "execution_count": null,
   "metadata": {},
   "outputs": [],
   "source": [
    "# plot two lines\n",
    "plt.plot([-2,3],[4,0],'b',label='line1')\n",
    "plt.plot([0,3],[-3,3],'r',label='line2')\n",
    "\n",
    "plt.legend(['line 1','line 2'])\n",
    "plt.show()"
   ]
  },
  {
   "cell_type": "code",
   "execution_count": null,
   "metadata": {},
   "outputs": [],
   "source": [
    "x = np.linspace(1,4,20)\n",
    "y = x**2/(x-2)\n",
    "\n",
    "plt.plot(x,y)\n",
    "\n",
    "# adjust the x-axis limits according to the first and last points in x\n",
    "plt.xlim(x[[0,-1]])\n",
    "\n",
    "plt.show()"
   ]
  },
  {
   "cell_type": "code",
   "execution_count": null,
   "metadata": {},
   "outputs": [],
   "source": [
    "x = sym.symbols('x')\n",
    "y = x**2 - 3*x\n",
    "\n",
    "xrange = range(-10,11)\n",
    "\n",
    "for i in range(0,len(xrange)):\n",
    "    plt.plot(xrange[i],y.subs(x,xrange[i]),'o')\n",
    "        \n",
    "plt.xlabel('x')\n",
    "plt.ylabel('$f(x) = %s$' %sym.latex(y))\n",
    "plt.show()"
   ]
  },
  {
   "cell_type": "code",
   "execution_count": null,
   "metadata": {},
   "outputs": [],
   "source": [
    "x = [-5,5]\n",
    "m = 2\n",
    "b = 1\n",
    "\n",
    "y = m*np.array(x)+b\n",
    "\n",
    "plt.plot(x,y)\n",
    "plt.show()"
   ]
  },
  {
   "cell_type": "code",
   "execution_count": null,
   "metadata": {},
   "outputs": [],
   "source": [
    "x = range(-20,21)\n",
    "\n",
    "for i in range(0,len(x)):\n",
    "    plt.plot([0,x[i]],[0,abs(x[i])**(1/2)],color=(i/len(x),i/len(x),i/len(x)))\n",
    "\n",
    "plt.axis('off')\n",
    "plt.show()"
   ]
  },
  {
   "cell_type": "code",
   "execution_count": null,
   "metadata": {},
   "outputs": [],
   "source": [
    "# draw a checkerboard with purple numbers on top\n",
    "\n",
    "m = 8\n",
    "n = 4\n",
    "\n",
    "# initialize matrix\n",
    "C = np.zeros((m,n))\n",
    "\n",
    "# populate the matrix\n",
    "for i in range(0,m):\n",
    "    for j in range(0,n):\n",
    "        C[i,j] = (-1)**(i+j)\n",
    "        \n",
    "\n",
    "# display some numbers\n",
    "for i in range(0,m):\n",
    "    for j in range(0,n):\n",
    "        plt.text(j,i,i+j,\\\n",
    "                 horizontalalignment='center',verticalalignment='center',\\\n",
    "                 fontdict=dict(color='m'))\n",
    "\n",
    "\n",
    "plt.imshow(C)\n",
    "plt.set_cmap('gray')\n",
    "plt.show()"
   ]
  }
 ],
 "metadata": {
  "kernelspec": {
   "display_name": "Python 3",
   "language": "python",
   "name": "python3"
  },
  "language_info": {
   "codemirror_mode": {
    "name": "ipython",
    "version": 3
   },
   "file_extension": ".py",
   "mimetype": "text/x-python",
   "name": "python",
   "nbconvert_exporter": "python",
   "pygments_lexer": "ipython3",
   "version": "3.7.6"
  }
 },
 "nbformat": 4,
 "nbformat_minor": 2
}
